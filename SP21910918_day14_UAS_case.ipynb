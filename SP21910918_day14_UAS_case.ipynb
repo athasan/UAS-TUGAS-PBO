{
 "cells": [
  {
   "cell_type": "code",
   "execution_count": 7,
   "metadata": {},
   "outputs": [
    {
     "data": {
      "application/vnd.jupyter.widget-view+json": {
       "model_id": "",
       "version_major": 2,
       "version_minor": 0
      },
      "method": "display_data"
     },
     "metadata": {},
     "output_type": "display_data"
    }
   ],
   "source": [
    "%%classpath add mvn\n",
    "tech.tablesaw tablesaw-beakerx 0.35.0\n",
    "com.jimmoores quandl-tablesaw 2.0.0\n",
    "com.github.haifengl smile-core 1.5.2\n",
    "tech.tablesaw tablesaw-excel 0.35.0\n",
    "tech.tablesaw tablesaw-json 0.35.0\n",
    "org.xerial sqlite-jdbc 3.28.0\n",
    "org.jsoup jsoup 1.11.3"
   ]
  },
  {
   "cell_type": "code",
   "execution_count": 8,
   "metadata": {},
   "outputs": [
    {
     "data": {
      "text/plain": [
       "null"
      ]
     },
     "execution_count": 8,
     "metadata": {},
     "output_type": "execute_result"
    }
   ],
   "source": [
    "%import static tech.tablesaw.aggregate.AggregateFunctions.*\n",
    "%import tech.tablesaw.api.*\n",
    "%import tech.tablesaw.columns.*\n",
    "%import smile.clustering.*\n",
    "%import smile.regression.*\n",
    "\n",
    "tech.tablesaw.beakerx.TablesawDisplayer.register();"
   ]
  },
  {
   "cell_type": "code",
   "execution_count": 9,
   "metadata": {
    "scrolled": true
   },
   "outputs": [
    {
     "name": "stdout",
     "output_type": "stream",
     "text": [
      "                                          12181628.json                                          \n",
      "    vervar     |  tahun  |    var     |   nilai   |  turtahun  |  _id  |  idx  |     turvar     |\n",
      "-------------------------------------------------------------------------------------------------\n",
      " Mamuju Utara  |   2010  |  Produksi  |     82.8  |            |  299  |  298  |  Kacang Hijau  |\n",
      " Mamuju Utara  |   2011  |  Produksi  |        -  |            |  300  |  299  |  Kacang Hijau  |\n",
      " Mamuju Utara  |   2012  |  Produksi  |      297  |            |  301  |  300  |  Kacang Hijau  |\n",
      " Mamuju Utara  |   2013  |  Produksi  |      297  |            |  302  |  301  |  Kacang Hijau  |\n",
      " Mamuju Utara  |   2014  |  Produksi  |        -  |            |  303  |  302  |  Kacang Hijau  |\n",
      " Mamuju Utara  |   2015  |  Produksi  |       18  |            |  304  |  303  |  Kacang Hijau  |\n",
      " Mamuju Utara  |   2008  |  Produksi  |  1443.42  |            |  305  |  304  |      Ubi Kayu  |\n",
      " Mamuju Utara  |   2009  |  Produksi  |  1443.42  |            |  306  |  305  |      Ubi Kayu  |\n",
      " Mamuju Utara  |   2010  |  Produksi  |   1708.8  |            |  307  |  306  |      Ubi Kayu  |\n",
      " Mamuju Utara  |   2011  |  Produksi  |     1969  |            |  308  |  307  |      Ubi Kayu  |\n",
      "          ...  |    ...  |       ...  |      ...  |       ...  |  ...  |  ...  |           ...  |\n",
      " Mamuju Utara  |   2008  |  Produksi  |    106.4  |            |  289  |  288  |  Kacang Tanah  |\n",
      " Mamuju Utara  |   2009  |  Produksi  |    130.2  |            |  290  |  289  |  Kacang Tanah  |\n",
      " Mamuju Utara  |   2010  |  Produksi  |   149.25  |            |  291  |  290  |  Kacang Tanah  |\n",
      " Mamuju Utara  |   2011  |  Produksi  |      502  |            |  292  |  291  |  Kacang Tanah  |\n",
      " Mamuju Utara  |   2012  |  Produksi  |      539  |            |  293  |  292  |  Kacang Tanah  |\n",
      " Mamuju Utara  |   2013  |  Produksi  |      539  |            |  294  |  293  |  Kacang Tanah  |\n",
      " Mamuju Utara  |   2014  |  Produksi  |    328.5  |            |  295  |  294  |  Kacang Tanah  |\n",
      " Mamuju Utara  |   2015  |  Produksi  |       44  |            |  296  |  295  |  Kacang Tanah  |\n",
      " Mamuju Utara  |   2008  |  Produksi  |       60  |            |  297  |  296  |  Kacang Hijau  |\n",
      " Mamuju Utara  |   2009  |  Produksi  |     73.4  |            |  298  |  297  |  Kacang Hijau  |\n",
      "12181628.json summary\n",
      " Count [nilai]  |\n",
      "-----------------\n",
      "           448  |\n"
     ]
    },
    {
     "data": {
      "text/plain": [
       "null"
      ]
     },
     "execution_count": 9,
     "metadata": {},
     "output_type": "execute_result"
    }
   ],
   "source": [
    "import static tech.tablesaw.aggregate.AggregateFunctions.*;\n",
    "\n",
    "import tech.tablesaw.api.*;\n",
    "import tech.tablesaw.io.json.*;\n",
    "\n",
    "tech.tablesaw.beakerx.TablesawDisplayer.register();\n",
    "\n",
    "JsonReader reader = new JsonReader();\n",
    "\n",
    "Table data2 = Table.read().csv(\"12181628/12181628.csv\");\n",
    "\n",
    "JsonReadOptions file1 = JsonReadOptions.builder(\"12181628/12181628.json\").build();\n",
    "\n",
    "Table data1 = reader.read(file1);\n",
    "\n",
    "Table datagabung = data1.append(data2);\n",
    "\n",
    "System.out.println(datagabung.print()); \n",
    "\n",
    "System.out.println(datagabung.summarize(\"nilai\", count, sum, max, min, mean, range, median, variance, standardDeviation).apply());"
   ]
  },
  {
   "cell_type": "code",
   "execution_count": 10,
   "metadata": {},
   "outputs": [
    {
     "ename": "not a statement",
     "evalue": "not a statement",
     "output_type": "error",
     "traceback": [
      "\u001b[1;31mnot a statement\u001b[0;0m",
      "\u001b[1;31m 1. ada 298 data\u001b[0;0m",
      "\u001b[1;31m ^ ^              \u001b[0;0m",
      "\u001b[1;31m\u001b[0;0m",
      "\u001b[1;31m';' expected\u001b[0;0m",
      "\u001b[1;31m 1. ada 298 data\u001b[0;0m",
      "\u001b[1;31m   ^             \u001b[0;0m",
      "\u001b[1;31m\u001b[0;0m",
      "\u001b[1;31mnot a statement\u001b[0;0m",
      "\u001b[1;31m 1. ada 298 data\u001b[0;0m",
      "\u001b[1;31m    ^  ^          \u001b[0;0m",
      "\u001b[1;31m\u001b[0;0m",
      "\u001b[1;31m';' expected\u001b[0;0m",
      "\u001b[1;31m 1. ada 298 data\u001b[0;0m",
      "\u001b[1;31m       ^         \u001b[0;0m",
      "\u001b[1;31m\u001b[0;0m",
      "\u001b[1;31mnot a statement\u001b[0;0m",
      "\u001b[1;31m 1. ada 298 data\u001b[0;0m",
      "\u001b[1;31m            ^   ^ \u001b[0;0m",
      "\u001b[1;31m\u001b[0;0m",
      "\u001b[1;31m';' expected\u001b[0;0m",
      "\u001b[1;31m 1. ada 298 data\u001b[0;0m",
      "\u001b[1;31m                ^\u001b[0;0m",
      "\u001b[1;31m\u001b[0;0m",
      "\u001b[1;31m';' expected\u001b[0;0m",
      "\u001b[1;31m 2. total nilai 448\u001b[0;0m",
      "\u001b[1;31m               ^    \u001b[0;0m",
      "\u001b[1;31m\u001b[0;0m",
      "\u001b[1;31m';' expected\u001b[0;0m",
      "\u001b[1;31m 3. max nilai 10320000000\u001b[0;0m",
      "\u001b[1;31m             ^            \u001b[0;0m",
      "\u001b[1;31m\u001b[0;0m",
      "\u001b[1;31m';' expected\u001b[0;0m",
      "\u001b[1;31m 4. min nilai 1000000\u001b[0;0m",
      "\u001b[1;31m             ^        \u001b[0;0m",
      "\u001b[1;31m\u001b[0;0m",
      "\u001b[1;31mnot a statement\u001b[0;0m",
      "\u001b[1;31m 5. rata-rata mean 506215517.2413792\u001b[0;0m",
      "\u001b[1;31m    ^        ^                        \u001b[0;0m",
      "\u001b[1;31m\u001b[0;0m",
      "\u001b[1;31m';' expected\u001b[0;0m",
      "\u001b[1;31m 5. rata-rata mean 506215517.2413792\u001b[0;0m",
      "\u001b[1;31m             ^                       \u001b[0;0m",
      "\u001b[1;31m\u001b[0;0m",
      "\u001b[1;31mnot a statement\u001b[0;0m",
      "\u001b[1;31m 5. rata-rata mean 506215517.2413792\u001b[0;0m",
      "\u001b[1;31m              ^   ^                   \u001b[0;0m",
      "\u001b[1;31m\u001b[0;0m",
      "\u001b[1;31m';' expected\u001b[0;0m",
      "\u001b[1;31m 5. rata-rata mean 506215517.2413792\u001b[0;0m",
      "\u001b[1;31m                  ^                  \u001b[0;0m",
      "\u001b[1;31m\u001b[0;0m",
      "\u001b[1;31m';' expected\u001b[0;0m",
      "\u001b[1;31m 6. Nilai tengah dari nilai yaitu 176500000\u001b[0;0m",
      "\u001b[1;31m                ^                           \u001b[0;0m",
      "\u001b[1;31m\u001b[0;0m",
      "\u001b[1;31m';' expected\u001b[0;0m",
      "\u001b[1;31m 6. Nilai tengah dari nilai yaitu 176500000\u001b[0;0m",
      "\u001b[1;31m                           ^                \u001b[0;0m",
      "\u001b[1;31m\u001b[0;0m",
      "\u001b[1;31mnot a statement\u001b[0;0m",
      "\u001b[1;31m 6. Nilai tengah dari nilai yaitu 176500000\u001b[0;0m",
      "\u001b[1;31m                            ^    ^           \u001b[0;0m",
      "\u001b[1;31m\u001b[0;0m",
      "\u001b[1;31m';' expected\u001b[0;0m",
      "\u001b[1;31m. Nilai tengah dari nilai yaitu 176500000\u001b[0;0m",
      "\u001b[1;31m                               ^          \u001b[0;0m",
      "\u001b[1;31m\u001b[0;0m",
      "\u001b[1;31m';' expected\u001b[0;0m",
      "\u001b[1;31m 7. Nilai variasi yaitu  1435347735757121020\u001b[0;0m",
      "\u001b[1;31m                 ^                           \u001b[0;0m",
      "\u001b[1;31m\u001b[0;0m",
      "\u001b[1;31mnot a statement\u001b[0;0m",
      "\u001b[1;31m 7. Nilai variasi yaitu  1435347735757121020\u001b[0;0m",
      "\u001b[1;31m                  ^    ^                      \u001b[0;0m",
      "\u001b[1;31m\u001b[0;0m",
      "\u001b[1;31m';' expected\u001b[0;0m",
      "\u001b[1;31m 7. Nilai variasi yaitu  1435347735757121020\u001b[0;0m",
      "\u001b[1;31m                       ^                     \u001b[0;0m",
      "\u001b[1;31m\u001b[0;0m",
      "\u001b[1;31m';' expected\u001b[0;0m",
      "\u001b[1;31m 8. Nilai dari standar deviasi yaitu 1198059\u001b[0;0m",
      "\u001b[1;31m              ^                              \u001b[0;0m",
      "\u001b[1;31m\u001b[0;0m",
      "\u001b[1;31m';' expected\u001b[0;0m",
      "\u001b[1;31m 8. Nilai dari standar deviasi yaitu 1198059988.3800147\u001b[0;0m",
      "\u001b[1;31m                              ^                         \u001b[0;0m",
      "\u001b[1;31m\u001b[0;0m",
      "\u001b[1;31mnot a statement\u001b[0;0m",
      "\u001b[1;31m 8. Nilai dari standar deviasi yaitu 1198059988.3800147\u001b[0;0m",
      "\u001b[1;31m                               ^    ^                    \u001b[0;0m",
      "\u001b[1;31m\u001b[0;0m",
      "\u001b[1;31m';' expected\u001b[0;0m",
      "\u001b[1;31milai dari standar deviasi yaitu 1198059988.3800147\u001b[0;0m",
      "\u001b[1;31m                               ^                   \u001b[0;0m"
     ]
    }
   ],
   "source": [
    "1. ada 298 data\n",
    "2. total nilai 448\n",
    "3. max nilai 10320000000\n",
    "4. min nilai 1000000\n",
    "5. rata-rata mean 506215517.2413792\n",
    "6. Nilai tengah dari nilai yaitu 176500000\n",
    "7. Nilai variasi yaitu  1435347735757121020\n",
    "8. Nilai dari standar deviasi yaitu 1198059988.3800147 "
   ]
  },
  {
   "cell_type": "code",
   "execution_count": 11,
   "metadata": {},
   "outputs": [
    {
     "data": {
      "text/plain": [
       "null"
      ]
     },
     "execution_count": 11,
     "metadata": {},
     "output_type": "execute_result"
    }
   ],
   "source": [
    "\n",
    "import static tech.tablesaw.aggregate.AggregateFunctions.*;\n",
    "\n",
    "import tech.tablesaw.api.*;\n",
    "import tech.tablesaw.io.json.*;\n",
    "\n",
    "tech.tablesaw.beakerx.TablesawDisplayer.register();\n",
    "\n",
    "JsonReader reader = new JsonReader();\n",
    "\n",
    "Table data2 = Table.read().csv(\"12181628/12181628.csv\");\n",
    "\n",
    "JsonReadOptions file1 = JsonReadOptions.builder(\"12181628/12181628.json\").build();\n",
    "\n",
    "Table data1 = reader.read(file1);\n",
    "\n",
    "Table datagabung = data2.append(data1);"
   ]
  }
 ],
 "metadata": {
  "kernelspec": {
   "display_name": "Java",
   "language": "java",
   "name": "java"
  },
  "language_info": {
   "codemirror_mode": "text/x-java",
   "file_extension": ".java",
   "mimetype": "",
   "name": "Java",
   "nbconverter_exporter": "",
   "version": "1.8.0_121"
  },
  "toc": {
   "base_numbering": 1,
   "nav_menu": {},
   "number_sections": false,
   "sideBar": false,
   "skip_h1_title": false,
   "title_cell": "Table of Contents",
   "title_sidebar": "Contents",
   "toc_cell": false,
   "toc_position": {},
   "toc_section_display": false,
   "toc_window_display": false
  }
 },
 "nbformat": 4,
 "nbformat_minor": 2
}
